{
 "cells": [
  {
   "cell_type": "markdown",
   "id": "5817c560-3d85-4e47-bee2-e6c79a0ad2be",
   "metadata": {
    "tags": []
   },
   "source": [
    "# Ballistic Deposition"
   ]
  },
  {
   "cell_type": "code",
   "execution_count": 1,
   "id": "6ceaadba-ebdc-49a1-9268-f9d418af6195",
   "metadata": {
    "tags": []
   },
   "outputs": [],
   "source": [
    "import numpy as np\n",
    "import random\n",
    "import time"
   ]
  },
  {
   "cell_type": "code",
   "execution_count": 2,
   "id": "fc72436b-4c8d-47ae-ae33-034023950295",
   "metadata": {
    "tags": []
   },
   "outputs": [
    {
     "name": "stdin",
     "output_type": "stream",
     "text": [
      "Enter the Length of the Box 512\n",
      "Enter No. of MC Cycles:  100000\n",
      "Enter No. of Repetitions:  100\n",
      "Create Display file for o/p ? (0 = No / 1 = Yes): 1\n"
     ]
    }
   ],
   "source": [
    "Length = int(input(\"Enter the Length of the Box\"))\n",
    "nmc = int(input(\"Enter No. of MC Cycles: \"))\n",
    "n = int(input(\"Enter No. of Repetitions: \"))\n",
    "dis = int(input(\"Create Display file for o/p ? (0 = No / 1 = Yes):\"))"
   ]
  },
  {
   "cell_type": "code",
   "execution_count": null,
   "id": "dcccb7b8-7802-4a7e-966d-fa5e554142cd",
   "metadata": {
    "tags": []
   },
   "outputs": [],
   "source": [
    "begin = time.time()\n",
    "\n",
    "SW = [0] * nmc\n",
    "\n",
    "if dis == 1:\n",
    "    f = open(\"final.dat\", \"w\")\n",
    "\n",
    "std = open(\"std.dat\", \"w\") ; log = open(\"log.dat\", \"w\")\n",
    "\n",
    "for k in range(1, n+1):\n",
    "    H = [0] * Length\n",
    "    for i in range(1, nmc+1):\n",
    "        for j in range(1, Length+1):\n",
    "            x = random.randint(0,Length-1)   ##-- choosing a random integer\n",
    "                                             ##   point \"x\" ranging (0,Length)\n",
    "            #########################################   \n",
    "            if x == 0:                             ##\n",
    "                y = max(H[-1], H[x], H[x+1])       ##\n",
    "            elif x == Length-1:                    ##   Comparing max heights of (x)th, (x+1)th and (x-1)th\n",
    "                y = max(H[x-1], H[x], H[0])        ##-- and applying boundary conditions at x = 1 & x = Length\n",
    "            else:                                  ##   and later storing that max height in \"y\"\n",
    "                y = max(H[x-1], H[x], H[x+1])      ##\n",
    "            #########################################\n",
    "\n",
    "            #####################    \n",
    "            if y == H[x]:      ##\n",
    "                H[x] = y + 1   ##   If the value of y is the same as max height at (x)th column\n",
    "            else:              ##-- then the new max height of (x)th column is y + 1\n",
    "                H[x] = y       ##   else the new max height of (x)th column is y\n",
    "            #####################\n",
    "\n",
    "            ####################################\n",
    "            if dis == 1 and k == 1:           ##  \n",
    "                f.write(f\"{x} \\t {H[x]} \\n\")  ##-- Only taking 1 repetition for the display o/p of BD\n",
    "                                              ##   (Can be omitted if o/p is already registered)\n",
    "            ####################################\n",
    "\n",
    "        SW[i-1] += np.std(H, dtype=np.float64) / float(n)\n",
    "        \n",
    "###########################################################\n",
    "for i, sw_value in enumerate(SW, start=1):               ##-- Standard Deviation/Surface Width\n",
    "    std.write(f\"{i} \\t {sw_value} \\n\")                   ##\n",
    "    log.write(f\"{np.log(i)} \\t {np.log(sw_value)} \\n\")   ## \n",
    "###########################################################\n",
    "\n",
    "end = time.time()\n",
    "print(f\"Total runtime of the program is {end - begin}\")"
   ]
  },
  {
   "cell_type": "code",
   "execution_count": null,
   "id": "8257b23c-5ec5-4a50-b265-fb239baae1ac",
   "metadata": {},
   "outputs": [],
   "source": []
  }
 ],
 "metadata": {
  "kernelspec": {
   "display_name": "Python 3 (ipykernel)",
   "language": "python",
   "name": "python3"
  },
  "language_info": {
   "codemirror_mode": {
    "name": "ipython",
    "version": 3
   },
   "file_extension": ".py",
   "mimetype": "text/x-python",
   "name": "python",
   "nbconvert_exporter": "python",
   "pygments_lexer": "ipython3",
   "version": "3.11.2"
  }
 },
 "nbformat": 4,
 "nbformat_minor": 5
}
